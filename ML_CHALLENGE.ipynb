{
  "cells": [
    {
      "cell_type": "code",
      "execution_count": null,
      "metadata": {
        "colab": {
          "base_uri": "https://localhost:8080/"
        },
        "id": "J63_0qDS1nDQ",
        "outputId": "61639263-f1e3-4eee-d047-6b7307eb4b84"
      },
      "outputs": [
        {
          "data": {
            "text/plain": [
              "['student_resource', '__MACOSX']"
            ]
          },
          "execution_count": 1,
          "metadata": {},
          "output_type": "execute_result"
        }
      ],
      "source": [
        "import zipfile, os\n",
        "\n",
        "zip_path = \"/content/68e8d1d70b66d_student_resource.zip\"\n",
        "extract_dir = \"/content/dataset\"\n",
        "\n",
        "with zipfile.ZipFile(zip_path, 'r') as zip_ref:\n",
        "    zip_ref.extractall(extract_dir)\n",
        "\n",
        "os.listdir(extract_dir)\n"
      ]
    },
    {
      "cell_type": "code",
      "execution_count": null,
      "metadata": {
        "colab": {
          "base_uri": "https://localhost:8080/"
        },
        "id": "3E_UPXOE2HIK",
        "outputId": "74ed7db3-3eb8-4afa-a485-b068dc0ac95f"
      },
      "outputs": [
        {
          "data": {
            "text/plain": [
              "['dataset',\n",
              " 'Documentation_template.md',\n",
              " '.DS_Store',\n",
              " 'sample_code.py',\n",
              " 'README.md',\n",
              " 'src']"
            ]
          },
          "execution_count": 3,
          "metadata": {},
          "output_type": "execute_result"
        }
      ],
      "source": [
        "import os\n",
        "\n",
        "os.listdir(\"/content/dataset/student_resource\")\n"
      ]
    },
    {
      "cell_type": "code",
      "execution_count": null,
      "metadata": {
        "colab": {
          "background_save": true,
          "base_uri": "https://localhost:8080/"
        },
        "id": "OCDy79iK2eOb",
        "outputId": "85e5bffc-407d-4ab3-b8c8-06bda66840a8"
      },
      "outputs": [
        {
          "name": "stdout",
          "output_type": "stream",
          "text": [
            "Requirement already satisfied: lightgbm in /usr/local/lib/python3.12/dist-packages (4.6.0)\n",
            "Requirement already satisfied: numpy>=1.17.0 in /usr/local/lib/python3.12/dist-packages (from lightgbm) (2.0.2)\n",
            "Requirement already satisfied: scipy in /usr/local/lib/python3.12/dist-packages (from lightgbm) (1.16.2)\n",
            "Train shape: (75000, 4)\n",
            "Test shape: (75000, 3)\n",
            "Training until validation scores don't improve for 50 rounds\n",
            "[100]\tvalid_0's rmse: 0.73376\n",
            "[200]\tvalid_0's rmse: 0.710238\n",
            "[300]\tvalid_0's rmse: 0.699909\n",
            "[400]\tvalid_0's rmse: 0.693544\n",
            "[500]\tvalid_0's rmse: 0.689884\n",
            "[600]\tvalid_0's rmse: 0.686767\n",
            "[700]\tvalid_0's rmse: 0.683935\n",
            "[800]\tvalid_0's rmse: 0.68254\n",
            "[900]\tvalid_0's rmse: 0.681326\n",
            "[1000]\tvalid_0's rmse: 0.680284\n",
            "[1100]\tvalid_0's rmse: 0.679752\n",
            "Early stopping, best iteration is:\n",
            "[1054]\tvalid_0's rmse: 0.679744\n"
          ]
        },
        {
          "name": "stderr",
          "output_type": "stream",
          "text": [
            "/usr/local/lib/python3.12/dist-packages/lightgbm/basic.py:1238: UserWarning: Converting data to scipy sparse matrix.\n",
            "  _log_warning(\"Converting data to scipy sparse matrix.\")\n"
          ]
        },
        {
          "name": "stdout",
          "output_type": "stream",
          "text": [
            "✅ test_out.csv created successfully!\n"
          ]
        }
      ],
      "source": [
        "!pip install lightgbm\n",
        "\n",
        "import pandas as pd\n",
        "import numpy as np\n",
        "import re\n",
        "from sklearn.feature_extraction.text import TfidfVectorizer\n",
        "from sklearn.model_selection import train_test_split\n",
        "import lightgbm as lgb\n",
        "from scipy.sparse import hstack\n",
        "\n",
        "train = pd.read_csv(\"/content/dataset/student_resource/dataset/train.csv\")\n",
        "test = pd.read_csv(\"/content/dataset/student_resource/dataset/test.csv\")\n",
        "\n",
        "print(\"Train shape:\", train.shape)\n",
        "print(\"Test shape:\", test.shape)\n",
        "\n",
        "def extract_ipq(text):\n",
        "    if pd.isna(text):\n",
        "        return 1\n",
        "    text = text.lower()\n",
        "    m = re.search(r'(\\d+)\\s*(?:ct|count|pack|pk|pcs|pieces|x)\\b', text)\n",
        "    if m:\n",
        "        return int(m.group(1))\n",
        "    m2 = re.search(r'pack\\s*of\\s*(\\d+)', text)\n",
        "    if m2:\n",
        "        return int(m2.group(1))\n",
        "    return 1\n",
        "\n",
        "train[\"ipq\"] = train[\"catalog_content\"].apply(extract_ipq)\n",
        "test[\"ipq\"] = test[\"catalog_content\"].apply(extract_ipq)\n",
        "\n",
        "tfidf = TfidfVectorizer(max_features=30000, ngram_range=(1,2))\n",
        "X_train_text = tfidf.fit_transform(train[\"catalog_content\"].fillna(\"\"))\n",
        "X_test_text = tfidf.transform(test[\"catalog_content\"].fillna(\"\"))\n",
        "\n",
        "X_train = hstack([X_train_text, np.log1p(train[\"ipq\"].values).reshape(-1,1)])\n",
        "X_test = hstack([X_test_text, np.log1p(test[\"ipq\"].values).reshape(-1,1)])\n",
        "y = np.log1p(train[\"price\"].values)\n",
        "\n",
        "X_tr, X_val, y_tr, y_val = train_test_split(X_train, y, test_size=0.1, random_state=42)\n",
        "\n",
        "train_set = lgb.Dataset(X_tr, label=y_tr)\n",
        "val_set = lgb.Dataset(X_val, label=y_val)\n",
        "params = {\n",
        "    \"objective\": \"regression\",\n",
        "    \"metric\": \"rmse\",\n",
        "    \"learning_rate\": 0.05,\n",
        "    \"num_leaves\": 40,\n",
        "    \"verbosity\": -1\n",
        "}\n",
        "model = lgb.train(\n",
        "    params=params,\n",
        "    train_set=train_set,\n",
        "    valid_sets=[val_set],\n",
        "    num_boost_round=2000,\n",
        "    callbacks=[\n",
        "        lgb.early_stopping(stopping_rounds=50),\n",
        "        lgb.log_evaluation(100)\n",
        "    ]\n",
        ")\n",
        "\n",
        "preds = model.predict(X_test, num_iteration=model.best_iteration)\n",
        "preds = np.expm1(preds)\n",
        "preds = np.maximum(preds, 0.01)  # ensure positive\n",
        "\n",
        "out = pd.DataFrame({\n",
        "    \"sample_id\": test[\"sample_id\"],\n",
        "    \"price\": preds\n",
        "})\n",
        "out.to_csv(\"test_out.csv\", index=False)\n",
        "print(\"✅ test_out.csv created successfully!\")\n"
      ]
    },
    {
      "cell_type": "code",
      "source": [
        "from google.colab import files\n",
        "files.download(\"test_out.csv\")\n"
      ],
      "metadata": {
        "colab": {
          "base_uri": "https://localhost:8080/",
          "height": 17
        },
        "id": "Yoq7E7qQB_TE",
        "outputId": "e2eafd56-c4c0-4fbd-aca2-382b223e4dcb"
      },
      "execution_count": 6,
      "outputs": [
        {
          "output_type": "display_data",
          "data": {
            "text/plain": [
              "<IPython.core.display.Javascript object>"
            ],
            "application/javascript": [
              "\n",
              "    async function download(id, filename, size) {\n",
              "      if (!google.colab.kernel.accessAllowed) {\n",
              "        return;\n",
              "      }\n",
              "      const div = document.createElement('div');\n",
              "      const label = document.createElement('label');\n",
              "      label.textContent = `Downloading \"${filename}\": `;\n",
              "      div.appendChild(label);\n",
              "      const progress = document.createElement('progress');\n",
              "      progress.max = size;\n",
              "      div.appendChild(progress);\n",
              "      document.body.appendChild(div);\n",
              "\n",
              "      const buffers = [];\n",
              "      let downloaded = 0;\n",
              "\n",
              "      const channel = await google.colab.kernel.comms.open(id);\n",
              "      // Send a message to notify the kernel that we're ready.\n",
              "      channel.send({})\n",
              "\n",
              "      for await (const message of channel.messages) {\n",
              "        // Send a message to notify the kernel that we're ready.\n",
              "        channel.send({})\n",
              "        if (message.buffers) {\n",
              "          for (const buffer of message.buffers) {\n",
              "            buffers.push(buffer);\n",
              "            downloaded += buffer.byteLength;\n",
              "            progress.value = downloaded;\n",
              "          }\n",
              "        }\n",
              "      }\n",
              "      const blob = new Blob(buffers, {type: 'application/binary'});\n",
              "      const a = document.createElement('a');\n",
              "      a.href = window.URL.createObjectURL(blob);\n",
              "      a.download = filename;\n",
              "      div.appendChild(a);\n",
              "      a.click();\n",
              "      div.remove();\n",
              "    }\n",
              "  "
            ]
          },
          "metadata": {}
        },
        {
          "output_type": "display_data",
          "data": {
            "text/plain": [
              "<IPython.core.display.Javascript object>"
            ],
            "application/javascript": [
              "download(\"download_c235a3a4-442c-46d1-bd29-3a0bc70958f7\", \"test_out.csv\", 1878592)"
            ]
          },
          "metadata": {}
        }
      ]
    }
  ],
  "metadata": {
    "colab": {
      "provenance": []
    },
    "kernelspec": {
      "display_name": "Python 3",
      "name": "python3"
    },
    "language_info": {
      "name": "python"
    }
  },
  "nbformat": 4,
  "nbformat_minor": 0
}